{
 "cells": [
  {
   "cell_type": "code",
   "execution_count": 1,
   "metadata": {},
   "outputs": [],
   "source": [
    "%load_ext autoreload\n",
    "%autoreload 2"
   ]
  },
  {
   "cell_type": "code",
   "execution_count": 2,
   "metadata": {},
   "outputs": [],
   "source": [
    "from typing import Tuple\n",
    "\n",
    "import numpy as np\n",
    "import matplotlib.pyplot as plt\n",
    "import seaborn as sns\n",
    "sns.set()"
   ]
  },
  {
   "cell_type": "markdown",
   "metadata": {},
   "source": [
    "## Linear data for regression"
   ]
  },
  {
   "cell_type": "code",
   "execution_count": null,
   "metadata": {},
   "outputs": [],
   "source": [
    "class LinearDataGenerator:\n",
    "    def __init__(self, slope, intercept):\n",
    "        self.slope = slope\n",
    "        self.intercept = intercept\n",
    "    \n",
    "    def sample(self, num_samples: int, indep_var_range: Tuple[float, float]=(0, 1)):\n",
    "        assert type(num_samples) is int\n",
    "        assert num_samples > 0\n",
    "        assert indep_var_range[1] > indep_var_range[0]\n",
    "        \n",
    "        range = indep_var_range[1] - indep_var_range[0]\n",
    "        x = np.random.sample((num_samples, )) * range + indep_var_range[0]\n",
    "        return x, x * self.slope + self.intercept"
   ]
  },
  {
   "cell_type": "code",
   "execution_count": null,
   "metadata": {},
   "outputs": [],
   "source": [
    "data_gen = LinearDataGenerator(1, 2)\n",
    "x, y = data_gen.sample(10, (-10, 10))\n",
    "plt.scatter(x, y)\n",
    "plt.show()"
   ]
  },
  {
   "cell_type": "markdown",
   "metadata": {},
   "source": [
    "## Random clusters for classification"
   ]
  },
  {
   "cell_type": "code",
   "execution_count": null,
   "metadata": {},
   "outputs": [],
   "source": [
    "class ClusterDataGenerator:\n",
    "    def __init__(self, cluster_centers, cluster_spreads):\n",
    "        self.centers = cluster_centers\n",
    "        self.spreads = cluster_spreads\n",
    "        self.num_clusters = len(cluster_centers)\n",
    "        \n",
    "    def sample(self, num_samples):\n",
    "        samples = []\n",
    "        labels = []\n",
    "        l = 0\n",
    "        for center, spread in zip(self.centers, self.spreads):\n",
    "            num_cluster_samples = (int(num_samples / self.num_clusters), len(center))\n",
    "            labels.extend([l] * num_cluster_samples[0])\n",
    "            s = np.random.normal(center, spread, num_cluster_samples)\n",
    "            samples.extend(list(s))\n",
    "            l += 1\n",
    "            \n",
    "        return np.asarray(samples), np.asarray(labels)"
   ]
  },
  {
   "cell_type": "code",
   "execution_count": null,
   "metadata": {},
   "outputs": [],
   "source": [
    "data_gen = ClusterDataGenerator(((-1, 1), (1, 1)), (0.5, 0.5))\n",
    "samples, labels = data_gen.sample(200)\n",
    "\n",
    "plt.scatter(samples[labels == 0, 0], samples[labels == 0, 1], c='r')\n",
    "plt.scatter(samples[labels == 1, 0], samples[labels == 1, 1], c='b')\n",
    "plt.show()"
   ]
  },
  {
   "cell_type": "markdown",
   "metadata": {},
   "source": [
    "## MNIST"
   ]
  },
  {
   "cell_type": "markdown",
   "metadata": {},
   "source": [
    "### Download the gzip files from Yann LeCun's site"
   ]
  },
  {
   "cell_type": "code",
   "execution_count": 11,
   "metadata": {},
   "outputs": [],
   "source": [
    "from urllib.request import urlretrieve\n",
    "import os\n",
    "\n",
    "base_url = 'http://yann.lecun.com/exdb/mnist/'\n",
    "train_images_filename = 'train-images-idx3-ubyte.gz'\n",
    "train_labels_filename = 'train-labels-idx1-ubyte.gz'\n",
    "test_images_filename = 't10k-images-idx3-ubyte.gz'\n",
    "test_labels_filename = 't10k-labels-idx1-ubyte.gz'\n",
    "filenames = [train_images_filename, train_labels_filename, test_images_filename, test_labels_filename]\n",
    "data_cache_dir = os.path.join('data', 'mnist')\n",
    "\n",
    "# Make sure our data caching folder exists\n",
    "try:\n",
    "    os.mkdir(data_cache_dir)\n",
    "except FileExistsError:\n",
    "    pass\n",
    "files = os.listdir(data_cache_dir)\n",
    "for fname in filenames:\n",
    "    if fname not in files:\n",
    "        down_dir = os.path.join(data_cache_dir, fname)\n",
    "        url = base_url + fname\n",
    "        urlretrieve(url, down_dir)"
   ]
  },
  {
   "cell_type": "markdown",
   "metadata": {},
   "source": [
    "### Load a gzip file and get the digit image in numpy format"
   ]
  },
  {
   "cell_type": "code",
   "execution_count": 25,
   "metadata": {},
   "outputs": [
    {
     "name": "stdout",
     "output_type": "stream",
     "text": [
      "8\n"
     ]
    }
   ],
   "source": [
    "import struct\n",
    "import gzip\n",
    "\n",
    "train_images_path = os.path.join(data_cache_dir, train_images_filename)\n",
    "\n",
    "with gzip.open(train_images_path, 'rb') as f:\n",
    "    # The first 4 bytes give us the data type and number of dimensions\n",
    "    # First two bytes are zero\n",
    "    _, data_type, dims = struct.unpack('>HBB', f.read(4))\n",
    "    # Now that we know the number of dimensions we can get the shape of each\n",
    "    shape = tuple(struct.unpack('>I', f.read(4))[0] for d in range(dims))\n",
    "    # With the shape load the raw data and use numpy to get it in a usable form\n",
    "    data = np.frombuffer(f.read(), dtype=np.uint8).reshape(shape)"
   ]
  },
  {
   "cell_type": "markdown",
   "metadata": {},
   "source": [
    "### Take a look at a random 10 digits"
   ]
  },
  {
   "cell_type": "code",
   "execution_count": 24,
   "metadata": {},
   "outputs": [
    {
     "data": {
      "image/png": "[encoded data removed]",
      "text/plain": [
       "<Figure size 1440x720 with 10 Axes>"
      ]
     },
     "metadata": {},
     "output_type": "display_data"
    }
   ],
   "source": [
    "fig, axes = plt.subplots(2, 5, figsize = (20, 10))\n",
    "for i in range(10):\n",
    "    axes.flatten()[i].imshow(data[np.random.randint(0, data.shape[0])])\n",
    "plt.show()"
   ]
  }
 ],
 "metadata": {
  "kernelspec": {
   "display_name": "Python 3",
   "language": "python",
   "name": "python3"
  },
  "language_info": {
   "codemirror_mode": {
    "name": "ipython",
    "version": 3
   },
   "file_extension": ".py",
   "mimetype": "text/x-python",
   "name": "python",
   "nbconvert_exporter": "python",
   "pygments_lexer": "ipython3",
   "version": "3.7.0"
  }
 },
 "nbformat": 4,
 "nbformat_minor": 2
}

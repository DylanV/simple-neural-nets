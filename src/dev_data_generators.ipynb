{
 "cells": [
  {
   "cell_type": "code",
   "execution_count": 1,
   "metadata": {},
   "outputs": [],
   "source": [
    "%load_ext autoreload\n",
    "%autoreload 2"
   ]
  },
  {
   "cell_type": "code",
   "execution_count": 2,
   "metadata": {},
   "outputs": [],
   "source": [
    "from typing import Tuple\n",
    "\n",
    "import numpy as np\n",
    "import matplotlib.pyplot as plt\n",
    "import seaborn as sns\n",
    "sns.set()"
   ]
  },
  {
   "cell_type": "markdown",
   "metadata": {},
   "source": [
    "## Linear data for regression"
   ]
  },
  {
   "cell_type": "code",
   "execution_count": null,
   "metadata": {},
   "outputs": [],
   "source": [
    "class LinearDataGenerator:\n",
    "    def __init__(self, slope, intercept):\n",
    "        self.slope = slope\n",
    "        self.intercept = intercept\n",
    "    \n",
    "    def sample(self, num_samples: int, indep_var_range: Tuple[float, float]=(0, 1)):\n",
    "        assert type(num_samples) is int\n",
    "        assert num_samples > 0\n",
    "        assert indep_var_range[1] > indep_var_range[0]\n",
    "        \n",
    "        range = indep_var_range[1] - indep_var_range[0]\n",
    "        x = np.random.sample((num_samples, )) * range + indep_var_range[0]\n",
    "        return x, x * self.slope + self.intercept"
   ]
  },
  {
   "cell_type": "code",
   "execution_count": null,
   "metadata": {},
   "outputs": [],
   "source": [
    "data_gen = LinearDataGenerator(1, 2)\n",
    "x, y = data_gen.sample(10, (-10, 10))\n",
    "plt.scatter(x, y)\n",
    "plt.show()"
   ]
  },
  {
   "cell_type": "markdown",
   "metadata": {},
   "source": [
    "## Random clusters for classification"
   ]
  },
  {
   "cell_type": "code",
   "execution_count": null,
   "metadata": {},
   "outputs": [],
   "source": [
    "class ClusterDataGenerator:\n",
    "    def __init__(self, cluster_centers, cluster_spreads):\n",
    "        self.centers = cluster_centers\n",
    "        self.spreads = cluster_spreads\n",
    "        self.num_clusters = len(cluster_centers)\n",
    "        \n",
    "    def sample(self, num_samples):\n",
    "        samples = []\n",
    "        labels = []\n",
    "        l = 0\n",
    "        for center, spread in zip(self.centers, self.spreads):\n",
    "            num_cluster_samples = (int(num_samples / self.num_clusters), len(center))\n",
    "            labels.extend([l] * num_cluster_samples[0])\n",
    "            s = np.random.normal(center, spread, num_cluster_samples)\n",
    "            samples.extend(list(s))\n",
    "            l += 1\n",
    "            \n",
    "        return np.asarray(samples), np.asarray(labels)"
   ]
  },
  {
   "cell_type": "code",
   "execution_count": null,
   "metadata": {},
   "outputs": [],
   "source": [
    "data_gen = ClusterDataGenerator(((-1, 1), (1, 1)), (0.5, 0.5))\n",
    "samples, labels = data_gen.sample(200)\n",
    "\n",
    "plt.scatter(samples[labels == 0, 0], samples[labels == 0, 1], c='r')\n",
    "plt.scatter(samples[labels == 1, 0], samples[labels == 1, 1], c='b')\n",
    "plt.show()"
   ]
  },
  {
   "cell_type": "markdown",
   "metadata": {},
   "source": [
    "## MNIST"
   ]
  },
  {
   "cell_type": "code",
   "execution_count": 3,
   "metadata": {},
   "outputs": [
    {
     "data": {
      "text/plain": [
       "('train-images-idx3-ubyte.gz', <http.client.HTTPMessage at 0x18b3d2ac240>)"
      ]
     },
     "execution_count": 3,
     "metadata": {},
     "output_type": "execute_result"
    }
   ],
   "source": [
    "train_images_url = 'http://yann.lecun.com/exdb/mnist/train-images-idx3-ubyte.gz'\n",
    "train_labels_url = 'http://yann.lecun.com/exdb/mnist/train-labels-idx1-ubyte.gz'\n",
    "test_images_url = 'http://yann.lecun.com/exdb/mnist/t10k-images-idx3-ubyte.gz'\n",
    "test_labels_url = 'http://yann.lecun.com/exdb/mnist/t10k-labels-idx1-ubyte.gz'\n",
    "\n",
    "from urllib.request import urlretrieve\n",
    "urlretrieve(train_images_url, 'train-images-idx3-ubyte.gz')"
   ]
  },
  {
   "cell_type": "code",
   "execution_count": 36,
   "metadata": {},
   "outputs": [
    {
     "data": {
      "image/png": "[encoded data removed]",
      "text/plain": [
       "<Figure size 432x288 with 1 Axes>"
      ]
     },
     "metadata": {},
     "output_type": "display_data"
    }
   ],
   "source": [
    "path = 'train-images-idx3-ubyte.gz'\n",
    "import struct\n",
    "with gzip.open(path, 'rb') as f:\n",
    "    zero, data_type, dims = struct.unpack('>HBB', f.read(4))\n",
    "    shape = tuple(struct.unpack('>I', f.read(4))[0] for d in range(dims))\n",
    "    data = np.frombuffer(f.read(), dtype=np.uint8).reshape(shape)\n",
    "    \n",
    "import matplotlib.pyplot as plt\n",
    "\n",
    "plt.imshow(data[0])\n",
    "plt.show()"
   ]
  }
 ],
 "metadata": {
  "kernelspec": {
   "display_name": "Python 3",
   "language": "python",
   "name": "python3"
  },
  "language_info": {
   "codemirror_mode": {
    "name": "ipython",
    "version": 3
   },
   "file_extension": ".py",
   "mimetype": "text/x-python",
   "name": "python",
   "nbconvert_exporter": "python",
   "pygments_lexer": "ipython3",
   "version": "3.7.0"
  }
 },
 "nbformat": 4,
 "nbformat_minor": 2
}

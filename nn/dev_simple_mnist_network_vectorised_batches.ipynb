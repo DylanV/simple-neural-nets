{
 "cells": [
  {
   "cell_type": "code",
   "execution_count": 1,
   "metadata": {},
   "outputs": [],
   "source": [
    "%load_ext autoreload\n",
    "%autoreload 2"
   ]
  },
  {
   "cell_type": "code",
   "execution_count": 2,
   "metadata": {},
   "outputs": [],
   "source": [
    "import numpy as np\n",
    "import matplotlib.pyplot as plt\n",
    "import seaborn as sns\n",
    "sns.set()"
   ]
  },
  {
   "cell_type": "markdown",
   "metadata": {},
   "source": [
    "## Activation function"
   ]
  },
  {
   "cell_type": "code",
   "execution_count": 3,
   "metadata": {},
   "outputs": [],
   "source": [
    "def sigmoid(z):\n",
    "    return 1/(1 + np.exp(-z))\n",
    "\n",
    "def sigmoid_d(z):\n",
    "    return sigmoid(z) * (1 - sigmoid(z))"
   ]
  },
  {
   "cell_type": "markdown",
   "metadata": {},
   "source": [
    "### Cost funtion"
   ]
  },
  {
   "cell_type": "code",
   "execution_count": 4,
   "metadata": {},
   "outputs": [],
   "source": [
    "def cost(activation, target):\n",
    "    return 0.5 * (target - activation) ** 2\n",
    "\n",
    "def cost_d(activation, target):\n",
    "    return (target - activation)"
   ]
  },
  {
   "cell_type": "markdown",
   "metadata": {},
   "source": [
    "### Simple ANN with 1 hidden layer\n",
    "\n",
    "Here we manually do backpropagation to learn weights for a simple nn with 30 hidden weights that will attempt to classify between 0 and 1 in the mnist dataset"
   ]
  },
  {
   "cell_type": "code",
   "execution_count": 115,
   "metadata": {},
   "outputs": [],
   "source": [
    "input_dim = 28 * 28\n",
    "hidden_dim = 30 \n",
    "out_dim = 10\n",
    "\n",
    "hidden_weights = np.random.normal(0, 1, (input_dim, hidden_dim))\n",
    "out_weights = np.random.normal(0, 1, (hidden_dim, out_dim))\n",
    "\n",
    "hidden_biases = np.zeros((1, hidden_dim))\n",
    "out_biases = np.zeros((1, out_dim))"
   ]
  },
  {
   "cell_type": "code",
   "execution_count": 24,
   "metadata": {},
   "outputs": [],
   "source": [
    "def forward(x):\n",
    "    \"\"\"Compute a full forward pass of this small network\"\"\"\n",
    "    hidden_activations = sigmoid(np.dot(x, hidden_weights) + hidden_biases)\n",
    "    print('hidden a', hidden_activations.shape)\n",
    "    out_activations = sigmoid(np.dot(hidden_activations, out_weights) + out_biases)\n",
    "    print('out_a', out_activations.shape)\n",
    "    return out_activations"
   ]
  },
  {
   "cell_type": "code",
   "execution_count": 72,
   "metadata": {},
   "outputs": [],
   "source": [
    "def backpropagate(x, y):\n",
    "    # Do a forward pass but cache the activations and z's \n",
    "    hidden_z = np.dot(x, hidden_weights) + hidden_biases\n",
    "    hidden_a = sigmoid(hidden_z)\n",
    "    out_z = np.dot(hidden_a, out_weights) + out_biases\n",
    "    out_a = sigmoid(out_z)\n",
    "    correct = np.count_nonzero(np.argmax(out_a, 1) == np.argmax(y, 1))\n",
    "    # Now do the backwards pass\n",
    "    # Output layer\n",
    "    out_error = cost_d(out_a, y) * sigmoid_d(out_z)\n",
    "    \n",
    "    # Partial derivatives\n",
    "    change_out_biases = np.sum(out_error, 0)\n",
    "    change_out_weights = np.dot(hidden_a.T, out_error)\n",
    "    # Hidden layer\n",
    "    # Backpropagate the error\n",
    "    hidden_error = np.dot(out_weights, out_error.T).T * sigmoid_d(hidden_z)\n",
    "    # Get the partial derivatives\n",
    "    change_hidden_biases = np.sum(hidden_error, 0)\n",
    "    change_hidden_weights = np.dot(x.T, hidden_error)\n",
    "\n",
    "    return  correct, change_out_weights, change_out_biases, change_hidden_weights, change_hidden_biases"
   ]
  },
  {
   "cell_type": "markdown",
   "metadata": {},
   "source": [
    "### Get the MNIST dataset\n",
    "And just grab the 0 and 1 images"
   ]
  },
  {
   "cell_type": "code",
   "execution_count": 8,
   "metadata": {},
   "outputs": [],
   "source": [
    "from data_loaders import MNISTLoader\n",
    "mloader = MNISTLoader()\n",
    "train_data, train_labels = mloader.get_training_set()"
   ]
  },
  {
   "cell_type": "code",
   "execution_count": 27,
   "metadata": {},
   "outputs": [
    {
     "name": "stdout",
     "output_type": "stream",
     "text": [
      "1.0\n"
     ]
    }
   ],
   "source": [
    "num_samples = train_labels.shape[0]\n",
    "\n",
    "# get images as vectors\n",
    "x = train_data.reshape(num_samples, -1)/255\n",
    "print(x[0].max())\n",
    "\n",
    "# one-hot encode labels\n",
    "y = np.zeros((num_samples, 10))\n",
    "y[np.arange(num_samples),train_labels] = 1"
   ]
  },
  {
   "cell_type": "markdown",
   "metadata": {},
   "source": [
    "### Stochastic gradient descent\n",
    "\n",
    "Use SGD to train this small network for a few epochs and watch our training accuracy"
   ]
  },
  {
   "cell_type": "code",
   "execution_count": 120,
   "metadata": {},
   "outputs": [
    {
     "name": "stdout",
     "output_type": "stream",
     "text": [
      "52650 / 60000\n"
     ]
    }
   ],
   "source": [
    "learning_rate = 1e-2\n",
    "batch_size = 5 \n",
    "batch_starts = np.arange(batch_size, num_samples, batch_size)\n",
    "idxes = np.arange(0, num_samples, 1)\n",
    "num_epochs = 1\n",
    "for epoch in range(num_epochs):\n",
    "    np.random.shuffle(idxes)\n",
    "    batches = np.split(idxes, batch_starts)\n",
    "    total_correct = 0\n",
    "    for batch in batches:\n",
    "        correct, d_ow, d_ob, d_hw, d_hb = backpropagate(x[batch], y[batch])\n",
    "    \n",
    "        total_correct += correct\n",
    "        out_weights += learning_rate * (1/batch_size) * d_ow \n",
    "        out_biases += learning_rate * (1/batch_size) * d_ob\n",
    "        hidden_weights += learning_rate * (1/batch_size) * d_hw \n",
    "        hidden_biases += learning_rate * (1/batch_size) * d_hb\n",
    "\n",
    "    print(f'{total_correct} / {num_samples}')"
   ]
  },
  {
   "cell_type": "code",
   "execution_count": 95,
   "metadata": {},
   "outputs": [
    {
     "data": {
      "text/plain": [
       "<matplotlib.image.AxesImage at 0x21b0532a978>"
      ]
     },
     "execution_count": 95,
     "metadata": {},
     "output_type": "execute_result"
    },
    {
     "data": {
      "image/png": "[encoded data removed]",
      "text/plain": [
       "<Figure size 432x288 with 1 Axes>"
      ]
     },
     "metadata": {},
     "output_type": "display_data"
    }
   ],
   "source": [
    "plt.imshow(x[50280].reshape(28, 28))"
   ]
  },
  {
   "cell_type": "code",
   "execution_count": 92,
   "metadata": {},
   "outputs": [
    {
     "data": {
      "text/plain": [
       "0.8333333333333334"
      ]
     },
     "execution_count": 92,
     "metadata": {},
     "output_type": "execute_result"
    }
   ],
   "source": [
    "50000/60000"
   ]
  }
 ],
 "metadata": {
  "kernelspec": {
   "display_name": "Python 3",
   "language": "python",
   "name": "python3"
  },
  "language_info": {
   "codemirror_mode": {
    "name": "ipython",
    "version": 3
   },
   "file_extension": ".py",
   "mimetype": "text/x-python",
   "name": "python",
   "nbconvert_exporter": "python",
   "pygments_lexer": "ipython3",
   "version": "3.7.0"
  }
 },
 "nbformat": 4,
 "nbformat_minor": 2
}
